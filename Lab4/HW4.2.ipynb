{
 "cells": [
  {
   "cell_type": "markdown",
   "id": "e813fc70",
   "metadata": {},
   "source": [
    "2.1\n",
    "Moving on to part two, here word2vec is used to find the similarity of two words."
   ]
  },
  {
   "cell_type": "markdown",
   "id": "912f653c",
   "metadata": {},
   "source": [
    "Here we establish the model, It uses the pre-trained Google News dataset model I got here: https://drive.google.com/file/d/0B7XkCwpI5KDYNlNUTTlSS21pQmM/view?resourcekey=0-wjGZdNAUop6WykTtMip30g. To my knowledge the official download source for this is down so I downloaded it off google drive. This package is probably fine but use caution if you decide to download it yourself."
   ]
  },
  {
   "cell_type": "code",
   "execution_count": 1,
   "id": "5650f1a0",
   "metadata": {},
   "outputs": [],
   "source": [
    "from gensim.models import Word2Vec\n",
    "from gensim.models import KeyedVectors\n",
    "import numpy as np\n",
    "model = KeyedVectors.load_word2vec_format('./GoogleNews-vectors-negative300.bin', binary=True)"
   ]
  },
  {
   "cell_type": "markdown",
   "id": "585f752c",
   "metadata": {},
   "source": [
    "Here we calculate the cosine_similarity."
   ]
  },
  {
   "cell_type": "code",
   "execution_count": 2,
   "id": "9b0e6703",
   "metadata": {},
   "outputs": [],
   "source": [
    "def cosine(A: np.ndarray, B: np.ndarray) -> float:\n",
    "    d = np.dot(A, B)/(np.linalg.norm(A)* np.linalg.norm(B))\n",
    "    return d"
   ]
  },
  {
   "cell_type": "markdown",
   "id": "fc43e018",
   "metadata": {},
   "source": [
    "Here we calculate the dissimilarity. I decided to use this after finding out what euclidean distance is from this source: https://necromuralist.github.io/Neurotic-Networking/posts/nlp/pca-dimensionality-reduction-and-word-vectors/.\n",
    "Because the euclidean distance will generally increase the more dissimilar two words are, I think that it is a good measure for dissimilarity"
   ]
  },
  {
   "cell_type": "code",
   "execution_count": 3,
   "id": "f881fe9d",
   "metadata": {},
   "outputs": [],
   "source": [
    "def euclidean(A: np.ndarray, B: np.ndarray) -> float:\n",
    "    d = np.sqrt(((A - B)**2).sum())\n",
    "    return d"
   ]
  },
  {
   "cell_type": "markdown",
   "id": "f1c8e119",
   "metadata": {},
   "source": [
    "And this loop takes in user input and prins the similarity and dissimilarity. Typing 'exit' for word 'a' will end the program"
   ]
  },
  {
   "cell_type": "code",
   "execution_count": 4,
   "id": "ad9764ad",
   "metadata": {},
   "outputs": [
    {
     "name": "stdout",
     "output_type": "stream",
     "text": [
      "Input word 1:\n",
      "cat\n",
      "Input word 2:\n",
      "dog\n",
      "Cosine Similarity:  0.76094574\n",
      "Dissimilarity:  2.0815337\n",
      "\n",
      "Input word 1:\n",
      "bird\n",
      "Input word 2:\n",
      "reactor\n",
      "Cosine Similarity:  0.08423068\n",
      "Dissimilarity:  5.312938\n",
      "\n",
      "Input word 1:\n",
      "hello\n",
      "Input word 2:\n",
      "greetings\n",
      "Cosine Similarity:  0.4345101\n",
      "Dissimilarity:  3.8125038\n",
      "\n",
      "Input word 1:\n",
      "exit\n"
     ]
    }
   ],
   "source": [
    "i = 0\n",
    "while i == 0:\n",
    "    print(\"Input word 1:\")\n",
    "    a = input()\n",
    "    if a == 'exit':\n",
    "        break\n",
    "    print(\"Input word 2:\")\n",
    "    b = input()\n",
    "    print(\"Cosine Similarity: \", cosine(model[a], model[b]))\n",
    "    print(\"Dissimilarity: \", euclidean(model[a], model[b]))\n",
    "    print()"
   ]
  },
  {
   "cell_type": "markdown",
   "id": "6c99974b",
   "metadata": {},
   "source": [
    "Generally speaking, similar words will have a higher cosine similarity and lower euclidean distance, so the model appears to be working right."
   ]
  }
 ],
 "metadata": {
  "kernelspec": {
   "display_name": "Python 3 (ipykernel)",
   "language": "python",
   "name": "python3"
  },
  "language_info": {
   "codemirror_mode": {
    "name": "ipython",
    "version": 3
   },
   "file_extension": ".py",
   "mimetype": "text/x-python",
   "name": "python",
   "nbconvert_exporter": "python",
   "pygments_lexer": "ipython3",
   "version": "3.8.10"
  }
 },
 "nbformat": 4,
 "nbformat_minor": 5
}
