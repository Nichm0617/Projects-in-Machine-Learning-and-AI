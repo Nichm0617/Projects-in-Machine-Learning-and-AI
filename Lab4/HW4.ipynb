{
 "cells": [
  {
   "cell_type": "code",
   "execution_count": 1,
   "id": "14acf888",
   "metadata": {},
   "outputs": [],
   "source": [
    "import numpy as np\n",
    "import matplotlib.pyplot as plt\n",
    "import tensorflow_datasets as tfds\n",
    "import tensorflow as tf\n",
    "import pathlib\n",
    "import os\n",
    "os.environ['TF_CPP_MIN_LOG_LEVEL'] = '3'"
   ]
  },
  {
   "cell_type": "markdown",
   "id": "f9b83147",
   "metadata": {},
   "source": [
    "1.1:\n",
    "Loading the data and setting initial variables. The data is reviews from yelp and the sentiment within them from: https://www.tensorflow.org/datasets/catalog/yelp_polarity_reviews. The model will attempt to predict sentiment of a review by looking at the words used in combination with each other. The RNN is useful here because they tend to be good at sequneces of data that show patterns, and text recognition like what this model will be doing is a kind of pattern. The RNN benefits from being passed information from previous steps because it is better able to learn the patterns."
   ]
  },
  {
   "cell_type": "code",
   "execution_count": 2,
   "id": "f8e136ad",
   "metadata": {},
   "outputs": [],
   "source": [
    "BATCH_SIZE = 64\n",
    "dataset, info = tfds.load('yelp_polarity_reviews', with_info=True, as_supervised=True)\n",
    "train_dataset, val_dataset = dataset['train'], dataset['test']\n",
    "test_dataset = train_dataset.take(320)\n",
    "train_dataset = train_dataset.skip(320)\n",
    "train_dataset = train_dataset.batch(BATCH_SIZE).prefetch(tf.data.AUTOTUNE)\n",
    "val_dataset = val_dataset.batch(BATCH_SIZE).prefetch(tf.data.AUTOTUNE)\n",
    "test_dataset = test_dataset.batch(BATCH_SIZE).prefetch(tf.data.AUTOTUNE)"
   ]
  },
  {
   "cell_type": "markdown",
   "id": "133531a0",
   "metadata": {},
   "source": [
    "The text must be converted from text to numeric because the RNN must have numerical values, not strings or characters"
   ]
  },
  {
   "cell_type": "code",
   "execution_count": 3,
   "id": "e42a459f",
   "metadata": {},
   "outputs": [],
   "source": [
    "text_to_numeric = tf.keras.layers.TextVectorization(max_tokens=1000)\n",
    "text_to_numeric.adapt(train_dataset.map(lambda text, label: text))"
   ]
  },
  {
   "cell_type": "markdown",
   "id": "67453fa7",
   "metadata": {},
   "source": [
    "Here is a little visualization of what the data looks like. This is an example of a negative review, denoted by the zero label, with the text and numeric representation. The numeric representation is zero paded."
   ]
  },
  {
   "cell_type": "code",
   "execution_count": 4,
   "id": "e1c6a4fb",
   "metadata": {},
   "outputs": [
    {
     "name": "stdout",
     "output_type": "stream",
     "text": [
      "text:  [b\"I come to this pharmacy often, not by choice. The prescription for my son can only be filled here if I want my insurance to pay for it. So every other week I'm forced to reserve time I don't really have available to go stand in a long line to deal with stupid employees that can never seem to get anything right and to top it off they all have attitudes.\\\\nTheir prices are high and the employees are rude. The only good thing about this place is the cleanliness... its always clean and organized.\"]\n",
      "numeric:  [[  4 121   5  16   1 657  22  77 647   2   1  10  14   1  76  69  29 829\n",
      "   45  38   4 132  14   1   5 273  10   9  27 186  80 404  85   1   5   1\n",
      "   49   4  73  62  23 650   5  59 837  11   6 188 263   5 422  17   1 560\n",
      "   13  76  87 536   5  43 245 145   3   5 276   9 110  19  39  23   1 252\n",
      "   28 358   3   2 560  28 398   2  69  35 181  56  16  31  12   2   1  47\n",
      "  123 288   3   1   0   0   0   0   0   0   0   0   0   0   0   0   0   0\n",
      "    0   0   0   0   0   0   0   0   0   0   0   0   0   0   0   0   0   0\n",
      "    0   0   0   0   0   0   0   0   0   0   0   0   0   0   0   0   0   0\n",
      "    0   0   0   0   0   0   0   0   0   0   0   0   0   0   0   0   0   0\n",
      "    0   0   0   0   0   0   0   0   0   0   0   0   0   0   0   0   0   0\n",
      "    0   0   0   0   0   0   0   0   0   0   0   0   0   0   0   0   0   0\n",
      "    0   0   0   0   0   0   0   0   0   0   0   0   0   0   0   0   0   0\n",
      "    0   0   0   0   0   0   0   0   0   0   0   0   0   0   0   0   0   0\n",
      "    0   0   0   0   0   0   0   0   0   0   0   0   0   0   0   0   0   0\n",
      "    0   0   0   0   0   0   0   0   0   0   0   0   0   0   0   0   0   0\n",
      "    0   0   0   0   0   0   0   0   0   0   0   0   0   0   0   0   0   0\n",
      "    0   0   0   0   0   0   0   0   0   0   0   0   0   0   0   0   0   0\n",
      "    0   0   0   0   0   0   0   0   0   0   0   0   0   0   0   0   0   0\n",
      "    0   0   0   0   0   0   0   0   0   0   0   0   0   0   0   0   0   0\n",
      "    0   0   0   0   0   0   0   0   0   0   0   0   0   0   0   0   0   0\n",
      "    0   0   0   0   0   0   0]]\n",
      "label:  tf.Tensor(0, shape=(), dtype=int64)\n"
     ]
    }
   ],
   "source": [
    "for example, label in train_dataset.take(1):\n",
    "    print('text: ', example.numpy()[:1])\n",
    "    print('numeric: ', text_to_numeric(example)[:1].numpy())\n",
    "    print('label: ',label[0])"
   ]
  },
  {
   "cell_type": "markdown",
   "id": "3f24814b",
   "metadata": {},
   "source": [
    "Here the model is set. First the text is converted to numeric representation, then the embedding layer converts the words to vectors which can be trained. \n",
    "\n",
    "For the RNN, I decided to set the activation funtion to tanh becuase I found it to perform well through experimentation, though admittidly there seems only be a small amount of varience between most functions. This part also makes use of the bidirectional wrapper which propogates the input forward and backward, which improved results.\n",
    "\n",
    "The final two dense layers convert the output to a single classification, I decided to use relu here after some testing. An optimizer is also included in the compile, which has a fairly large positive effect."
   ]
  },
  {
   "cell_type": "code",
   "execution_count": 5,
   "id": "3f5f2e6e",
   "metadata": {},
   "outputs": [],
   "source": [
    "model = tf.keras.Sequential([\n",
    "    text_to_numeric,\n",
    "    tf.keras.layers.Embedding(\n",
    "        input_dim=len(text_to_numeric.get_vocabulary()),\n",
    "        output_dim=BATCH_SIZE,\n",
    "        mask_zero=True),\n",
    "    tf.keras.layers.Bidirectional(tf.keras.layers.SimpleRNN(BATCH_SIZE, activation='tanh')),\n",
    "    tf.keras.layers.Dense(BATCH_SIZE, activation='relu'),\n",
    "    tf.keras.layers.Dense(1)\n",
    "])\n",
    "\n",
    "model.compile(loss=tf.keras.losses.BinaryCrossentropy(from_logits=True),\n",
    "              optimizer=tf.keras.optimizers.Adam(1e-4),\n",
    "              metrics=['accuracy'])"
   ]
  },
  {
   "cell_type": "markdown",
   "id": "aa9c516f",
   "metadata": {},
   "source": [
    "Here we fit the model, I found 5 epochs to be enough. While the result would probably still continue to improve a bit beyond this point it is already pretty accurate and takes a little over an hour for each epoch so further training is not worth it."
   ]
  },
  {
   "cell_type": "code",
   "execution_count": 6,
   "id": "0a4abeb8",
   "metadata": {},
   "outputs": [
    {
     "name": "stdout",
     "output_type": "stream",
     "text": [
      "Epoch 1/5\n",
      "8745/8745 [==============================] - 4464s 510ms/step - loss: 0.2693 - accuracy: 0.8792 - val_loss: 0.2070 - val_accuracy: 0.9135\n",
      "Epoch 2/5\n",
      "8745/8745 [==============================] - 4237s 484ms/step - loss: 0.2303 - accuracy: 0.9020 - val_loss: 0.1991 - val_accuracy: 0.9125\n",
      "Epoch 3/5\n",
      "8745/8745 [==============================] - 4446s 508ms/step - loss: 0.2221 - accuracy: 0.9053 - val_loss: 0.1938 - val_accuracy: 0.9156\n",
      "Epoch 4/5\n",
      "8745/8745 [==============================] - 4487s 513ms/step - loss: 0.2133 - accuracy: 0.9087 - val_loss: 0.1896 - val_accuracy: 0.9177\n",
      "Epoch 5/5\n",
      "8745/8745 [==============================] - 4402s 503ms/step - loss: 0.2073 - accuracy: 0.9109 - val_loss: 0.1883 - val_accuracy: 0.9198\n"
     ]
    }
   ],
   "source": [
    "history = model.fit(train_dataset, epochs=5,\n",
    "                    validation_data=val_dataset,\n",
    "                    validation_steps=30)"
   ]
  },
  {
   "cell_type": "markdown",
   "id": "6be9d123",
   "metadata": {},
   "source": [
    "Here is a graphed version of the results, accuracy corresponds to the percentage of correct guesses between positive and negative sentiments. The accuracy of the model on the training set follows closely with the accuracy on the validation set and the training results. Even after only the first epoch the results are about 88% accurate and improve slightly from there."
   ]
  },
  {
   "cell_type": "code",
   "execution_count": 7,
   "id": "955754d1",
   "metadata": {},
   "outputs": [
    {
     "data": {
      "text/plain": [
       "(0.0, 0.27336039319634436)"
      ]
     },
     "execution_count": 7,
     "metadata": {},
     "output_type": "execute_result"
    },
    {
     "data": {
      "image/png": "[encoded data removed]",
      "text/plain": [
       "<Figure size 1152x576 with 2 Axes>"
      ]
     },
     "metadata": {
      "needs_background": "light"
     },
     "output_type": "display_data"
    }
   ],
   "source": [
    "plt.figure(figsize=(16, 8))\n",
    "plt.subplot(1, 2, 1)\n",
    "plt.plot(history.history['accuracy'])\n",
    "plt.plot(history.history['val_accuracy'], '')\n",
    "plt.xlabel(\"Epochs\")\n",
    "plt.ylabel('accuracy')\n",
    "plt.legend(['accuracy', 'validation accuracy'])\n",
    "\n",
    "plt.ylim(None, 1)\n",
    "plt.subplot(1, 2, 2)\n",
    "plt.plot(history.history['loss'])\n",
    "plt.plot(history.history['val_loss'], '')\n",
    "plt.xlabel(\"Epochs\")\n",
    "plt.ylabel('loss')\n",
    "plt.legend(['loss', 'validation loss'])\n",
    "plt.ylim(0, None)"
   ]
  },
  {
   "cell_type": "markdown",
   "id": "91af620e",
   "metadata": {},
   "source": [
    "Here I run a test for accuracy on the test set, which results in about 94% Accuracy. This is a little higher than the accuracy given by the model, however this set is admittedly pretty small so some variance is not unexpected. (I would make it larger but I do not have time to train the model again)"
   ]
  },
  {
   "cell_type": "code",
   "execution_count": 8,
   "id": "037c6f5e",
   "metadata": {
    "scrolled": false
   },
   "outputs": [
    {
     "name": "stdout",
     "output_type": "stream",
     "text": [
      "Accuracy: 0.9375%\n"
     ]
    }
   ],
   "source": [
    "k = 0\n",
    "labels = list(map(lambda x: x[1], test_dataset))\n",
    "for i in range(5):\n",
    "    for example, label in test_dataset.take(1):\n",
    "        for z in range(BATCH_SIZE):\n",
    "            if model.predict(example)[z] >= 0.0:\n",
    "                if label[z] == 1:\n",
    "                    k += 1\n",
    "            else:\n",
    "                if label[z] == 0:\n",
    "                    k += 1\n",
    "                    \n",
    "print(\"Accuracy: \" + str(k/320) + \"%\")"
   ]
  },
  {
   "cell_type": "markdown",
   "id": "44b95bf3",
   "metadata": {},
   "source": [
    "1.2\n",
    "Now we use the same model but with LSTM."
   ]
  },
  {
   "cell_type": "code",
   "execution_count": 9,
   "id": "be8f6650",
   "metadata": {},
   "outputs": [
    {
     "name": "stdout",
     "output_type": "stream",
     "text": [
      "Epoch 1/5\n",
      "8745/8745 [==============================] - 5573s 637ms/step - loss: 0.2526 - accuracy: 0.8863 - val_loss: 0.1944 - val_accuracy: 0.9156\n",
      "Epoch 2/5\n",
      "8745/8745 [==============================] - 5734s 656ms/step - loss: 0.2175 - accuracy: 0.9060 - val_loss: 0.1846 - val_accuracy: 0.9193\n",
      "Epoch 3/5\n",
      "8745/8745 [==============================] - 5013s 573ms/step - loss: 0.2050 - accuracy: 0.9114 - val_loss: 0.1671 - val_accuracy: 0.9318\n",
      "Epoch 4/5\n",
      "8745/8745 [==============================] - 5520s 631ms/step - loss: 0.1812 - accuracy: 0.9226 - val_loss: 0.1416 - val_accuracy: 0.9438\n",
      "Epoch 5/5\n",
      "8745/8745 [==============================] - 5702s 652ms/step - loss: 0.1634 - accuracy: 0.9308 - val_loss: 0.1336 - val_accuracy: 0.9474\n"
     ]
    }
   ],
   "source": [
    "model = tf.keras.Sequential([\n",
    "    text_to_numeric,\n",
    "    tf.keras.layers.Embedding(\n",
    "        input_dim=len(text_to_numeric.get_vocabulary()),\n",
    "        output_dim=BATCH_SIZE,\n",
    "        mask_zero=True),\n",
    "    tf.keras.layers.Bidirectional(tf.keras.layers.LSTM(BATCH_SIZE, activation='tanh')),\n",
    "    tf.keras.layers.Dense(BATCH_SIZE, activation='relu'),\n",
    "    tf.keras.layers.Dense(1)\n",
    "])\n",
    "\n",
    "model.compile(loss=tf.keras.losses.BinaryCrossentropy(from_logits=True),\n",
    "              optimizer=tf.keras.optimizers.Adam(1e-4),\n",
    "              metrics=['accuracy'])\n",
    "\n",
    "history = model.fit(train_dataset, epochs=5,\n",
    "                    validation_data=val_dataset,\n",
    "                    validation_steps=30)"
   ]
  },
  {
   "cell_type": "markdown",
   "id": "9b643f4a",
   "metadata": {},
   "source": [
    "This method produces slightly better results overall. The first epoch is already better than the first epoch of the first model, and then this one steadily improves at a higher rate. I would guess that this is because of its ability to remember over over long sequences.\n",
    "\n",
    "It also takes about 20% longer to train each epoch, this might be because it passes more information along."
   ]
  },
  {
   "cell_type": "code",
   "execution_count": 10,
   "id": "a39eff8e",
   "metadata": {},
   "outputs": [
    {
     "data": {
      "text/plain": [
       "(0.0, 0.2585536062717438)"
      ]
     },
     "execution_count": 10,
     "metadata": {},
     "output_type": "execute_result"
    },
    {
     "data": {
      "image/png": "[encoded data removed]",
      "text/plain": [
       "<Figure size 1152x576 with 2 Axes>"
      ]
     },
     "metadata": {
      "needs_background": "light"
     },
     "output_type": "display_data"
    }
   ],
   "source": [
    "plt.figure(figsize=(16, 8))\n",
    "plt.subplot(1, 2, 1)\n",
    "plt.plot(history.history['accuracy'])\n",
    "plt.plot(history.history['val_accuracy'], '')\n",
    "plt.xlabel(\"Epochs\")\n",
    "plt.ylabel('accuracy')\n",
    "plt.legend(['accuracy', 'val_accuracy'])\n",
    "\n",
    "plt.ylim(None, 1)\n",
    "plt.subplot(1, 2, 2)\n",
    "plt.plot(history.history['loss'])\n",
    "plt.plot(history.history['val_loss'], '')\n",
    "plt.xlabel(\"Epochs\")\n",
    "plt.ylabel('loss')\n",
    "plt.legend(['loss', 'val_loss'])\n",
    "plt.ylim(0, None)"
   ]
  },
  {
   "cell_type": "markdown",
   "id": "a70fd4bd",
   "metadata": {},
   "source": [
    "Finally here is the last accuracy test over the test set. This data lines up with what the model predicted, showing it works pretty well."
   ]
  },
  {
   "cell_type": "code",
   "execution_count": 12,
   "id": "6e0551a6",
   "metadata": {},
   "outputs": [
    {
     "name": "stdout",
     "output_type": "stream",
     "text": [
      "Accuracy: 0.921875%\n"
     ]
    }
   ],
   "source": [
    "k = 0\n",
    "labels = list(map(lambda x: x[1], test_dataset))\n",
    "for i in range(5):\n",
    "    for example, label in test_dataset.take(1):\n",
    "        for z in range(BATCH_SIZE):\n",
    "            if model.predict(example)[z] >= 0.0:\n",
    "                if label[z] == 1:\n",
    "                    k += 1\n",
    "            else:\n",
    "                if label[z] == 0:\n",
    "                    k += 1\n",
    "                    \n",
    "print(\"Accuracy: \" + str(k/320) + \"%\")"
   ]
  }
 ],
 "metadata": {
  "kernelspec": {
   "display_name": "Python 3 (ipykernel)",
   "language": "python",
   "name": "python3"
  },
  "language_info": {
   "codemirror_mode": {
    "name": "ipython",
    "version": 3
   },
   "file_extension": ".py",
   "mimetype": "text/x-python",
   "name": "python",
   "nbconvert_exporter": "python",
   "pygments_lexer": "ipython3",
   "version": "3.8.10"
  }
 },
 "nbformat": 4,
 "nbformat_minor": 5
}
